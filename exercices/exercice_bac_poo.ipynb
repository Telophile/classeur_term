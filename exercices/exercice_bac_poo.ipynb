{
 "cells": [
  {
   "cell_type": "markdown",
   "id": "fe882b29",
   "metadata": {},
   "source": [
    "exercice 1\n",
    "\n",
    "1\n",
    "m1 = Maison(1)\n",
    "m2 = Maison(3,5)\n",
    "\n",
    "2\n",
    "a = Antenne(2.5,1)\n",
    "\n",
    "3\n",
    "\n",
    "\n",
    "4 \n",
    "def creation_rue(pos): \n",
    "     \n",
    "    pos.sort()      \n",
    "    maisons = [] \n",
    "    for p in pos: \n",
    "        m = Maison(p) \n",
    "        maisons.append(m) \n",
    "    return maisons\n",
    "\n",
    "5"
   ]
  },
  {
   "cell_type": "code",
   "execution_count": null,
   "id": "8d0a9931",
   "metadata": {},
   "outputs": [],
   "source": [
    "class Maison: \n",
    "    def __init__(self, position): \n",
    "        self._position = position \n",
    "    def get_pos_maison(self): \n",
    "        return self._position \n",
    "class Antenne: \n",
    "    def __init__(self, position, rayon): \n",
    "        self._position = position \n",
    "        self._rayon = rayon \n",
    "    def get_pos_antenne(self): \n",
    "        return self._position \n",
    "    def get_rayon(self): \n",
    "        return self._rayon\n",
    "    #5\n",
    "    def couvre(self, maison): \n",
    "        self.get_pos_antenne()\n",
    "        "
   ]
  },
  {
   "cell_type": "markdown",
   "id": "4d97b9b6",
   "metadata": {},
   "source": [
    "1"
   ]
  },
  {
   "cell_type": "code",
   "execution_count": 14,
   "id": "91bdea30",
   "metadata": {},
   "outputs": [],
   "source": [
    "m1 = Maison(1)\n",
    "m2 = Maison(float(3.5))"
   ]
  },
  {
   "cell_type": "code",
   "execution_count": 13,
   "id": "0e6a4889",
   "metadata": {},
   "outputs": [
    {
     "data": {
      "text/plain": [
       "1"
      ]
     },
     "execution_count": 13,
     "metadata": {},
     "output_type": "execute_result"
    }
   ],
   "source": [
    "m1.get_pos_maison()"
   ]
  },
  {
   "cell_type": "code",
   "execution_count": 15,
   "id": "efee9752",
   "metadata": {},
   "outputs": [
    {
     "data": {
      "text/plain": [
       "3.5"
      ]
     },
     "execution_count": 15,
     "metadata": {},
     "output_type": "execute_result"
    }
   ],
   "source": [
    "m2.get_pos_maison()"
   ]
  },
  {
   "cell_type": "markdown",
   "id": "4f35e47e",
   "metadata": {},
   "source": [
    "2"
   ]
  },
  {
   "cell_type": "code",
   "execution_count": 17,
   "id": "e3ecb52a",
   "metadata": {},
   "outputs": [],
   "source": [
    "a = Antenne(float(2.5,),1)"
   ]
  },
  {
   "cell_type": "code",
   "execution_count": 18,
   "id": "684fe1c0",
   "metadata": {},
   "outputs": [
    {
     "data": {
      "text/plain": [
       "2.5"
      ]
     },
     "execution_count": 18,
     "metadata": {},
     "output_type": "execute_result"
    }
   ],
   "source": [
    "a.get_pos_antenne()"
   ]
  },
  {
   "cell_type": "markdown",
   "id": "371f1a7b",
   "metadata": {},
   "source": [
    "4"
   ]
  },
  {
   "cell_type": "code",
   "execution_count": 16,
   "id": "fd968336",
   "metadata": {},
   "outputs": [],
   "source": [
    "def creation_rue(pos): \n",
    "     \n",
    "    pos.sort()      \n",
    "    maisons = [] \n",
    "    for p in pos: \n",
    "        m = Maison(p) \n",
    "        maisons.append(m) \n",
    "    return maisons\n"
   ]
  },
  {
   "cell_type": "code",
   "execution_count": null,
   "id": "d834c333",
   "metadata": {},
   "outputs": [],
   "source": []
  }
 ],
 "metadata": {
  "kernelspec": {
   "display_name": "Python 3",
   "language": "python",
   "name": "python3"
  },
  "language_info": {
   "codemirror_mode": {
    "name": "ipython",
    "version": 3
   },
   "file_extension": ".py",
   "mimetype": "text/x-python",
   "name": "python",
   "nbconvert_exporter": "python",
   "pygments_lexer": "ipython3",
   "version": "3.12.1"
  }
 },
 "nbformat": 4,
 "nbformat_minor": 5
}
