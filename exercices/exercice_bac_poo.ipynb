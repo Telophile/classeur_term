{
 "cells": [
  {
   "cell_type": "markdown",
   "id": "4c82ec88",
   "metadata": {},
   "source": [
    "# pourquoi la poo\n",
    "\n",
    " la POO aide les développeurs à créer des programmes plus modulaires et plus faciles à maintenir. Cet article explore pourquoi cette approche est cruciale pour bâtir des applications complexes et robustes.\n",
    "\n",
    "## Vocabulaire \n",
    "\n",
    "-objet : instance d une class\n",
    "\n",
    "-attribut : valeur associer aux objets d une class\n",
    "\n",
    "-methode : fonction d une class\n",
    "\n",
    "-class : module Une classe regroupe des fonctions et des attributs qui définissent un objet\n",
    "\n",
    "-Les Getters ou Accesseurs : méthodes qui permettent de connaître les valeurs des attribut.\n",
    "\n",
    "-Les Setters ou modificateurs : sont des méthodes qui permettent de modifier les attributs \n",
    "\n",
    "### protection ou Abstraction\n",
    "\n",
    "Public sans _ visible par tous, accessible partout, tout le monde peut l’instanciée.\n",
    "\n",
    "Proteger avec un _ elle est visible par la même classe ET celles qui en héritent \n",
    "\n",
    "Prive avec 2 _ donc __ est accessible qu’à partir du fichier où elle est définie\n",
    "\n",
    "(ne marche pas sur python)\n",
    "\n",
    "### heritage\n",
    "\n",
    "L'héritage permet de réutiliser et d'étendre efficacement le code\n",
    "\n",
    "Des classes enfants peuvent être créées qui héritent des fonctionnalités communes d'une classe parent, en les spécialisant selon les besoins.\n",
    "\n",
    "permet à une classe de dériver d'une autre, en héritant de ses attributs et de ses méthodes.\n",
    "\n",
    "##### polymorphisme\n",
    "\n",
    " capacité d’une variable, d’une fonction ou d’un objet à prendre plusieurs formes, c’est-à-dire à sa capacité de posséder plusieurs définitions différentes."
   ]
  },
  {
   "cell_type": "markdown",
   "id": "fe882b29",
   "metadata": {},
   "source": [
    "exercice 1 24_NSIJ1JA1\n",
    "\n"
   ]
  },
  {
   "cell_type": "code",
   "execution_count": null,
   "id": "8d0a9931",
   "metadata": {},
   "outputs": [],
   "source": [
    "class Maison: \n",
    "    def __init__(self, position): \n",
    "        self._position = position \n",
    "    def get_pos_maison(self): \n",
    "        return self._position \n",
    "class Antenne: \n",
    "    def __init__(self, position, rayon): \n",
    "        self._position = position \n",
    "        self._rayon = rayon \n",
    "    def get_pos_antenne(self): \n",
    "        return self._position \n",
    "    def get_rayon(self): \n",
    "        return self._rayon\n",
    "    #5\n",
    "    def couvre(self, maison): \n",
    "        return abs(self.get_pos_antenne() - maison.get_pos_maison()) <= self.get_rayon()\n",
    "\n",
    "   "
   ]
  },
  {
   "cell_type": "markdown",
   "id": "4d97b9b6",
   "metadata": {},
   "source": [
    "1"
   ]
  },
  {
   "cell_type": "code",
   "execution_count": 22,
   "id": "91bdea30",
   "metadata": {},
   "outputs": [],
   "source": [
    "m1 = Maison(1)\n",
    "m2 = Maison(float(3.5))"
   ]
  },
  {
   "cell_type": "code",
   "execution_count": 23,
   "id": "0e6a4889",
   "metadata": {},
   "outputs": [
    {
     "data": {
      "text/plain": [
       "{'_position': 1}"
      ]
     },
     "execution_count": 23,
     "metadata": {},
     "output_type": "execute_result"
    }
   ],
   "source": [
    "m1.__dict__"
   ]
  },
  {
   "cell_type": "code",
   "execution_count": 24,
   "id": "efee9752",
   "metadata": {},
   "outputs": [
    {
     "data": {
      "text/plain": [
       "{'_position': 3.5}"
      ]
     },
     "execution_count": 24,
     "metadata": {},
     "output_type": "execute_result"
    }
   ],
   "source": [
    "m2.__dict__"
   ]
  },
  {
   "cell_type": "markdown",
   "id": "4f35e47e",
   "metadata": {},
   "source": [
    "2"
   ]
  },
  {
   "cell_type": "code",
   "execution_count": 25,
   "id": "6c011e79",
   "metadata": {},
   "outputs": [],
   "source": [
    "a = Antenne(float(2.5,),1)"
   ]
  },
  {
   "cell_type": "code",
   "execution_count": 26,
   "id": "84086f1a",
   "metadata": {},
   "outputs": [
    {
     "data": {
      "text/plain": [
       "{'_position': 2.5, '_rayon': 1}"
      ]
     },
     "execution_count": 26,
     "metadata": {},
     "output_type": "execute_result"
    }
   ],
   "source": [
    "a.__dict__"
   ]
  },
  {
   "cell_type": "markdown",
   "id": "371f1a7b",
   "metadata": {},
   "source": [
    "4"
   ]
  },
  {
   "cell_type": "code",
   "execution_count": 27,
   "id": "fd968336",
   "metadata": {},
   "outputs": [],
   "source": [
    "def creation_rue(pos): \n",
    "     \n",
    "    pos.sort()      \n",
    "    maisons = [] \n",
    "    for p in pos: \n",
    "        m = Maison(p) \n",
    "        maisons.append(m) \n",
    "    return maisons\n"
   ]
  },
  {
   "cell_type": "code",
   "execution_count": 29,
   "id": "cce7655e",
   "metadata": {},
   "outputs": [
    {
     "data": {
      "text/plain": [
       "[<__main__.Maison at 0x75c3f40be030>,\n",
       " <__main__.Maison at 0x75c3f40bcc80>,\n",
       " <__main__.Maison at 0x75c3f40be1b0>,\n",
       " <__main__.Maison at 0x75c3f40bf410>,\n",
       " <__main__.Maison at 0x75c3f40bfc50>,\n",
       " <__main__.Maison at 0x75c3f40e4d40>,\n",
       " <__main__.Maison at 0x75c3f40e5ca0>,\n",
       " <__main__.Maison at 0x75c3f4134170>,\n",
       " <__main__.Maison at 0x75c3f4135c10>]"
      ]
     },
     "execution_count": 29,
     "metadata": {},
     "output_type": "execute_result"
    }
   ],
   "source": [
    "creation_rue([0, 2, 3, 4, 5, 7, 9, 10.5, 11.5])"
   ]
  },
  {
   "cell_type": "markdown",
   "id": "0f1a15f5",
   "metadata": {},
   "source": [
    "5"
   ]
  },
  {
   "cell_type": "code",
   "execution_count": 28,
   "id": "d834c333",
   "metadata": {},
   "outputs": [
    {
     "data": {
      "text/plain": [
       "True"
      ]
     },
     "execution_count": 28,
     "metadata": {},
     "output_type": "execute_result"
    }
   ],
   "source": [
    "a.couvre(m2)"
   ]
  },
  {
   "cell_type": "markdown",
   "id": "72cdb8a4",
   "metadata": {},
   "source": [
    "6"
   ]
  },
  {
   "cell_type": "code",
   "execution_count": 32,
   "id": "3e35ce8c",
   "metadata": {},
   "outputs": [],
   "source": [
    "def strategie_1(maisons, rayon): \n",
    "\n",
    "    antennes = [Antenne(maisons[0].get_pos_maison(), rayon)] \n",
    "    for m in maisons[1:]: \n",
    "        if not antennes[-1].couvre(m): \n",
    "            antennes.append(Antenne(m.get_pos_maison(), rayon)) \n",
    "    return antennes "
   ]
  },
  {
   "cell_type": "code",
   "execution_count": 33,
   "id": "a55f546b",
   "metadata": {},
   "outputs": [
    {
     "name": "stdout",
     "output_type": "stream",
     "text": [
      "[0, 3, 7, 10.5]\n"
     ]
    }
   ],
   "source": [
    "maisons = creation_rue([0, 2, 3, 4, 5, 7, 9, 10.5, 11.5]) \n",
    "antennes = strategie_1(maisons, 2) \n",
    "print([a.get_pos_antenne() for a in antennes])"
   ]
  },
  {
   "cell_type": "markdown",
   "id": "ad9a9d96",
   "metadata": {},
   "source": [
    "[0,3,7,10.5]"
   ]
  },
  {
   "cell_type": "markdown",
   "id": "c2199e9d",
   "metadata": {},
   "source": [
    "7"
   ]
  },
  {
   "cell_type": "markdown",
   "id": "5ed4ce23",
   "metadata": {},
   "source": [
    "il y aura une antenne en 2 , en en 7 et en 12.5"
   ]
  },
  {
   "cell_type": "markdown",
   "id": "22b845e0",
   "metadata": {},
   "source": [
    "8"
   ]
  },
  {
   "cell_type": "code",
   "execution_count": null,
   "id": "b7a484f8",
   "metadata": {},
   "outputs": [],
   "source": [
    "def strategie_2(maisons, rayon):\n",
    " antennes = [Antenne(maisons[0].get_pos_maison() + rayon, rayon)]# regarde la premiere maison  et pose une antenne un rayon de l antenne plus pour la couvrir\n",
    " for m in maisons[1:]: # parcours toutes les maison restante a partir de la 2 eme\n",
    "    if not antennes[-1].couvre(m): # verfie si maison couverte\n",
    "        antennes.append(Antenne(m.get_pos_maison() + rayon, rayon)) #ajoute une nouvelle antenne\n",
    " return antennes # renvoie la liste des antennes"
   ]
  },
  {
   "cell_type": "markdown",
   "id": "9ce7a9ae",
   "metadata": {},
   "source": [
    "9"
   ]
  },
  {
   "cell_type": "markdown",
   "id": "8bfbf32c",
   "metadata": {},
   "source": [
    "on aura le meme cout avce les 2 strategie"
   ]
  },
  {
   "cell_type": "markdown",
   "id": "7245e6b5",
   "metadata": {},
   "source": [
    "exercice 1 bac blanc "
   ]
  },
  {
   "cell_type": "markdown",
   "id": "29e0375a",
   "metadata": {},
   "source": [
    "1 . \n",
    "\n",
    "pret elu bloqué"
   ]
  },
  {
   "cell_type": "markdown",
   "id": "2574c0d1",
   "metadata": {},
   "source": [
    "2\n",
    "\n",
    "il n y a pas bloqué , uniquement pret et elu"
   ]
  },
  {
   "cell_type": "code",
   "execution_count": null,
   "id": "63dcea4b",
   "metadata": {},
   "outputs": [],
   "source": [
    "#3 \n",
    "def defile(self):\n",
    "    if len(self.contenu) == 0 :\n",
    "        return None\n",
    "    else : \n",
    "        return self.contenu.pop"
   ]
  },
  {
   "cell_type": "code",
   "execution_count": 36,
   "id": "c5b43d10",
   "metadata": {},
   "outputs": [],
   "source": [
    "class File: \n",
    "    def __init__(self): \n",
    "          \"\"\" Crée une file vide \"\"\" \n",
    "          self.contenu = [] \n",
    "   \n",
    "    def enfile(self, element): \n",
    "          \"\"\" Enfile element dans la file \"\"\" \n",
    "          self.contenu.append(element) \n",
    " \n",
    "    def defile(self): \n",
    "         \"\"\" Renvoie le premier élément de la file et l'enlève de la file \"\"\" \n",
    "         return self.contenu.pop(0) \n",
    " \n",
    "    def est_vide(self): \n",
    "         \n",
    "        \"\"\" Renvoie True si la file est vide, False sinon \"\"\" \n",
    "         \n",
    "        return self.contenu == []"
   ]
  },
  {
   "cell_type": "code",
   "execution_count": 40,
   "id": "c346ef78",
   "metadata": {},
   "outputs": [
    {
     "ename": "IndentationError",
     "evalue": "unindent does not match any outer indentation level (<string>, line 11)",
     "output_type": "error",
     "traceback": [
      "\u001b[0;36m  File \u001b[0;32m<string>:11\u001b[0;36m\u001b[0m\n\u001b[0;31m    self.file.enfile(proc)\u001b[0m\n\u001b[0m                          ^\u001b[0m\n\u001b[0;31mIndentationError\u001b[0m\u001b[0;31m:\u001b[0m unindent does not match any outer indentation level\n"
     ]
    }
   ],
   "source": [
    "class Ordonnanceur: \n",
    "   \n",
    "    def __init__(self): \n",
    "        self.temps = 0 \n",
    "        self.file = File() \n",
    "   \n",
    "    def ajoute_nouveau_processus(self,proc): \n",
    "          '''Ajoute un nouveau processus dans la file de \n",
    "            l'ordonnanceur. '''\n",
    "           \n",
    "        self.file.enfile(proc)\n",
    "  \n",
    "    def tourniquet(self):\n",
    "        self.temps += 1\n",
    "        if not self.file.estvide():\n",
    "            proc = self.file.defile()\n",
    "            proc.execute_un_cycle()\n",
    "        if not proc.est_fini():\n",
    "            self.file.enfile(proc)\n",
    "            return proc.nom\n",
    "        else :\n",
    "            return None"
   ]
  },
  {
   "cell_type": "code",
   "execution_count": null,
   "id": "4b0690d2",
   "metadata": {},
   "outputs": [],
   "source": [
    "#5\n",
    "def ajoute_nouv_processus(self,proc):\n",
    "    self.file.enfile(proc)\n",
    "def tourniquet(self):\n",
    "    self.temps += 1\n",
    "    if not self.file.estvide():\n",
    "        proc = self.file.defile()\n",
    "        proc.execute_un_cycle()\n",
    "        if not proc.est_fini():\n",
    "            self.file.enfile(proc)\n",
    "        return proc.nom\n",
    "    else :\n",
    "        return None"
   ]
  },
  {
   "cell_type": "code",
   "execution_count": null,
   "id": "d6c67f79",
   "metadata": {},
   "outputs": [],
   "source": [
    "#6\n",
    "ord = Ordonnaceur()\n",
    "fin = False\n",
    "while not fin:\n",
    "    if ord.temps in depart_proc :\n",
    "        ord.ajoute_nouv_processus(depart_proc[ord.temps])\n",
    "        elu = ord.tourniquet()\n",
    "    if elu == None :\n",
    "        fin = True\n",
    "    else :\n",
    "        print(elu)"
   ]
  },
  {
   "cell_type": "markdown",
   "id": "34fec62e",
   "metadata": {},
   "source": [
    "7\n",
    "\n",
    "b possede le clavier\n",
    "\n",
    "d possede le fichier\n",
    "\n",
    "b attend le fichier pour liberer le clavier\n",
    "\n",
    "d attend le clavier pour liberer le fichier\n",
    "\n",
    "--> situation d interblocage"
   ]
  },
  {
   "cell_type": "code",
   "execution_count": null,
   "id": "c5f36a47",
   "metadata": {
    "vscode": {
     "languageId": "powershell"
    }
   },
   "outputs": [],
   "source": []
  }
 ],
 "metadata": {
  "kernelspec": {
   "display_name": "Python 3",
   "language": "python",
   "name": "python3"
  },
  "language_info": {
   "codemirror_mode": {
    "name": "ipython",
    "version": 3
   },
   "file_extension": ".py",
   "mimetype": "text/x-python",
   "name": "python",
   "nbconvert_exporter": "python",
   "pygments_lexer": "ipython3",
   "version": "3.12.1"
  }
 },
 "nbformat": 4,
 "nbformat_minor": 5
}
