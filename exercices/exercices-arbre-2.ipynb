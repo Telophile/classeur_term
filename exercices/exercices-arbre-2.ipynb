{
 "cells": [
  {
   "cell_type": "markdown",
   "metadata": {},
   "source": [
    "1/\n",
    "\n",
    "il s agit d un arbre binaire car tout noeuds n ont pas plus de 2 fils\n",
    "\n",
    "2/\n",
    "\n",
    "    a/\n",
    "     v a pour type dictionnaire\n",
    "\n",
    "    b/ \n",
    "    print(v[\"J\"]) pour l afficher et v[\"j] pour y acceder\n",
    "\n",
    "    c/\n",
    "    def somme_dictionnaire(dict):\n",
    "    somme = 0\n",
    "    for cle in dict :\n",
    "        somme = somme + dict[cle]\n",
    "        \n",
    "\n",
    "    return somme\n",
    "\n",
    "    d/ \n",
    "    def Vmax(dict):\n",
    "    valeur_max = 0\n",
    "    for cle in dict :\n",
    "        if dict[cle] > valeur_max :\n",
    "            valeur_max = dict[cle]\n",
    "    return valeur_max\n",
    "\n",
    "3/ \n",
    "il renvoit 10 et nous donnes la taille de l arbres soit le nombre total de noeuds\n",
    "\n",
    "4/\n",
    "\n",
    "    a/ a,b,c,e,d,f,g,i,h,j\n",
    "\n",
    "    b/ il sagit d un parcours prefixe\n"
   ]
  },
  {
   "cell_type": "code",
   "execution_count": 1,
   "metadata": {},
   "outputs": [
    {
     "name": "stdout",
     "output_type": "stream",
     "text": [
      "7\n"
     ]
    }
   ],
   "source": [
    "v = {'A': 1 , 'B': 2 , 'C': 3 , 'D': 5 , 'E': 10 , 'F': 15 , 'G': 4 , \n",
    "'H': 5 , 'I': 5 , 'J': 7} \n",
    "print(v[\"J\"])"
   ]
  },
  {
   "cell_type": "code",
   "execution_count": 22,
   "metadata": {},
   "outputs": [],
   "source": [
    "t = [1,2,3,4,5,6,7,8,9,10]"
   ]
  },
  {
   "cell_type": "code",
   "execution_count": 24,
   "metadata": {},
   "outputs": [
    {
     "ename": "AssertionError",
     "evalue": "w doit etre un dictionnaire",
     "output_type": "error",
     "traceback": [
      "\u001b[0;31m---------------------------------------------------------------------------\u001b[0m",
      "\u001b[0;31mAssertionError\u001b[0m                            Traceback (most recent call last)",
      "Cell \u001b[0;32mIn[24], line 1\u001b[0m\n\u001b[0;32m----> 1\u001b[0m \u001b[43msomme_dictionnaire\u001b[49m\u001b[43m(\u001b[49m\u001b[43mt\u001b[49m\u001b[43m)\u001b[49m\n",
      "Cell \u001b[0;32mIn[16], line 2\u001b[0m, in \u001b[0;36msomme_dictionnaire\u001b[0;34m(w)\u001b[0m\n\u001b[1;32m      1\u001b[0m \u001b[38;5;28;01mdef\u001b[39;00m \u001b[38;5;21msomme_dictionnaire\u001b[39m(w:\u001b[38;5;28mdict\u001b[39m) \u001b[38;5;241m-\u001b[39m\u001b[38;5;241m>\u001b[39m \u001b[38;5;28mint\u001b[39m:\n\u001b[0;32m----> 2\u001b[0m     \u001b[38;5;28;01massert\u001b[39;00m \u001b[38;5;28mtype\u001b[39m(w)\u001b[38;5;241m==\u001b[39m\u001b[38;5;28mdict\u001b[39m , \u001b[38;5;124m\"\u001b[39m\u001b[38;5;124mw doit etre un dictionnaire\u001b[39m\u001b[38;5;124m\"\u001b[39m\n\u001b[1;32m      3\u001b[0m     somme \u001b[38;5;241m=\u001b[39m \u001b[38;5;241m0\u001b[39m\n\u001b[1;32m      4\u001b[0m     \u001b[38;5;28;01mfor\u001b[39;00m cle \u001b[38;5;129;01min\u001b[39;00m w :\n",
      "\u001b[0;31mAssertionError\u001b[0m: w doit etre un dictionnaire"
     ]
    }
   ],
   "source": [
    "somme_dictionnaire(t)"
   ]
  },
  {
   "cell_type": "code",
   "execution_count": 23,
   "metadata": {},
   "outputs": [
    {
     "data": {
      "text/plain": [
       "57"
      ]
     },
     "execution_count": 23,
     "metadata": {},
     "output_type": "execute_result"
    }
   ],
   "source": [
    "somme_dictionnaire(v)"
   ]
  },
  {
   "cell_type": "code",
   "execution_count": 16,
   "metadata": {},
   "outputs": [],
   "source": [
    "def somme_dictionnaire(w:dict) -> int:\n",
    "    assert type(w)==dict , \"w doit etre un dictionnaire\"\n",
    "    somme = 0\n",
    "    for cle in w :\n",
    "        somme = somme + w[cle]\n",
    "        \n",
    "\n",
    "    return somme\n",
    "\n",
    "\n",
    "\n",
    "\n"
   ]
  },
  {
   "cell_type": "code",
   "execution_count": 2,
   "metadata": {},
   "outputs": [],
   "source": [
    "def Vmax(w):\n",
    "    assert type(w)==dict, \"w doit etre un dictionnaire\"\n",
    "    valeur_max = 0\n",
    "    cle_max =\"\"\n",
    "    for cle in w :\n",
    "        if w[cle] > valeur_max :\n",
    "            valeur_max = w[cle]\n",
    "            cle_max = cle\n",
    "\n",
    "    return cle_max,valeur_max"
   ]
  },
  {
   "cell_type": "code",
   "execution_count": 3,
   "metadata": {},
   "outputs": [
    {
     "data": {
      "text/plain": [
       "('F', 15)"
      ]
     },
     "execution_count": 3,
     "metadata": {},
     "output_type": "execute_result"
    }
   ],
   "source": [
    "Vmax(v)\n"
   ]
  },
  {
   "cell_type": "code",
   "execution_count": null,
   "metadata": {},
   "outputs": [],
   "source": []
  }
 ],
 "metadata": {
  "kernelspec": {
   "display_name": "Python 3",
   "language": "python",
   "name": "python3"
  },
  "language_info": {
   "codemirror_mode": {
    "name": "ipython",
    "version": 3
   },
   "file_extension": ".py",
   "mimetype": "text/x-python",
   "name": "python",
   "nbconvert_exporter": "python",
   "pygments_lexer": "ipython3",
   "version": "3.12.1"
  }
 },
 "nbformat": 4,
 "nbformat_minor": 2
}
