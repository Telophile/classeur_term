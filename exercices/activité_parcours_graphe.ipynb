{
 "cells": [
  {
   "cell_type": "markdown",
   "metadata": {},
   "source": [
    "### 10.1\n",
    "\n",
    "Appliquez l'algorithme du parcours en largeur d'abord au graphe ci-dessous. Le 'point de départ' de notre parcours sera le sommet A. Vous noterez les sommets atteints à chaque étape ainsi que les sommets présents dans la file f. Vous pourrez aussi, à chaque étape, donner les changements de couleur des sommets.\n",
    "\n",
    "![c10a_1.jpg](https://dav74.github.io/site_nsi_term/img/c10a_1.jpg)\n"
   ]
  },
  {
   "cell_type": "raw",
   "metadata": {
    "vscode": {
     "languageId": "raw"
    }
   },
   "source": [
    "File=[A]\n",
    "sommet_noir=[]"
   ]
  },
  {
   "cell_type": "raw",
   "metadata": {
    "vscode": {
     "languageId": "raw"
    }
   },
   "source": [
    "File=[B,D]\n",
    "sommet_noir=[A]"
   ]
  },
  {
   "cell_type": "raw",
   "metadata": {
    "vscode": {
     "languageId": "raw"
    }
   },
   "source": [
    "File=[D,C,E]\n",
    "sommet_noir=[A,B]"
   ]
  },
  {
   "cell_type": "raw",
   "metadata": {
    "vscode": {
     "languageId": "raw"
    }
   },
   "source": [
    "File=[C,E]\n",
    "sommet_noir=[A,B,D]"
   ]
  },
  {
   "cell_type": "raw",
   "metadata": {
    "vscode": {
     "languageId": "raw"
    }
   },
   "source": [
    "File=[E]\n",
    "sommet_noir=[A,B,D,C]"
   ]
  },
  {
   "cell_type": "raw",
   "metadata": {
    "vscode": {
     "languageId": "raw"
    }
   },
   "source": [
    "File=[]\n",
    "sommet_noir=[A,B,D,C,E]"
   ]
  },
  {
   "cell_type": "markdown",
   "metadata": {},
   "source": [
    "### activité 10.2\n",
    "\n",
    "Appliquez l'algorithme du parcours en profondeur d'abord au graphe ci-dessous (d'abord avec l'algorithme récursif puis ensuite avec l'algorithme non récursif). Le 'point de départ' de notre parcours sera le sommet A. Vous noterez les sommets atteints à chaque étape ainsi que les sommets présents dans la pile p. Vous pourrez aussi, à chaque étape, donner les changements de couleur des sommets.\n",
    "\n",
    "![c10a_1.jpg](https://dav74.github.io/site_nsi_term/img/c10a_1.jpg)"
   ]
  },
  {
   "cell_type": "markdown",
   "metadata": {},
   "source": [
    "#### version pile"
   ]
  },
  {
   "cell_type": "raw",
   "metadata": {
    "vscode": {
     "languageId": "raw"
    }
   },
   "source": [
    "Pile=[A]\n",
    "sommets_noir=[]"
   ]
  },
  {
   "cell_type": "raw",
   "metadata": {
    "vscode": {
     "languageId": "raw"
    }
   },
   "source": [
    "Pile=[B,D]\n",
    "sommets_noir=[A]"
   ]
  },
  {
   "cell_type": "raw",
   "metadata": {
    "vscode": {
     "languageId": "raw"
    }
   },
   "source": [
    "Pile=[B,C]\n",
    "sommets_noir=[A,D]"
   ]
  },
  {
   "cell_type": "raw",
   "metadata": {
    "vscode": {
     "languageId": "raw"
    }
   },
   "source": [
    "Pile=[B,E]\n",
    "sommets_noir=[A,D,C]"
   ]
  },
  {
   "cell_type": "raw",
   "metadata": {
    "vscode": {
     "languageId": "raw"
    }
   },
   "source": [
    "Pile=[B]\n",
    "sommets_noir=[A,D,C,E]"
   ]
  },
  {
   "cell_type": "raw",
   "metadata": {
    "vscode": {
     "languageId": "raw"
    }
   },
   "source": [
    "Pile=[]\n",
    "sommets_noir=[A,D,C,E,B]"
   ]
  },
  {
   "cell_type": "raw",
   "metadata": {
    "vscode": {
     "languageId": "raw"
    }
   },
   "source": [
    "VARIABLE\n",
    "s : noeud (origine)\n",
    "G : un graphe\n",
    "u : noeud\n",
    "v : noeud\n",
    "p : pile (pile vide au départ)\n",
    "//On part du principe que pour tout sommet u du graphe G, u.couleur = blanc à l'origine\n",
    "DEBUT\n",
    "empiler(s,p)\n",
    "tant que p n'est pas vide :\n",
    "    u ← depiler(p)\n",
    "    si u.couleur n'est pas noir :\n",
    "        u.couleur ← noir\n",
    "        pour chaque sommet v adjacent au sommet u :\n",
    "            empiler(v,p)\n",
    "        fin pour\n",
    "    fin si\n",
    "fin tant que\n",
    "FIN"
   ]
  },
  {
   "cell_type": "markdown",
   "metadata": {},
   "source": [
    "#### version recursive\n"
   ]
  },
  {
   "cell_type": "raw",
   "metadata": {
    "vscode": {
     "languageId": "raw"
    }
   },
   "source": [
    "\n",
    "sommet_noir=[]"
   ]
  },
  {
   "cell_type": "raw",
   "metadata": {
    "vscode": {
     "languageId": "raw"
    }
   },
   "source": [
    "\n",
    "sommet_noir=[A]"
   ]
  },
  {
   "cell_type": "raw",
   "metadata": {
    "vscode": {
     "languageId": "raw"
    }
   },
   "source": [
    "sommet_noir=[A,B]"
   ]
  },
  {
   "cell_type": "raw",
   "metadata": {
    "vscode": {
     "languageId": "raw"
    }
   },
   "source": [
    "sommet_noir=[A,B,E]"
   ]
  },
  {
   "cell_type": "raw",
   "metadata": {
    "vscode": {
     "languageId": "raw"
    }
   },
   "source": [
    "sommet_noir=[A,B,E,C]"
   ]
  },
  {
   "cell_type": "raw",
   "metadata": {
    "vscode": {
     "languageId": "raw"
    }
   },
   "source": [
    "sommet_noir=[A,B,E,C,D]"
   ]
  },
  {
   "cell_type": "raw",
   "metadata": {
    "vscode": {
     "languageId": "raw"
    }
   },
   "source": [
    "VARIABLE\n",
    "G : un graphe\n",
    "u : noeud\n",
    "v : noeud\n",
    "//On part du principe que pour tout sommet u du graphe G, u.couleur = blanc à l'origine\n",
    "DEBUT\n",
    "PARCOURS-PROFONDEUR(G,u) :\n",
    "    u.couleur ← noir\n",
    "    pour chaque sommet v adjacent au sommet u :\n",
    "        si v.couleur n'est pas noir :\n",
    "            PARCOURS-PROFONDEUR(G,v)\n",
    "        fin si\n",
    "    fin pour\n",
    "FIN"
   ]
  },
  {
   "cell_type": "markdown",
   "metadata": {},
   "source": [
    "### activité 10.3\n",
    "\n",
    "Appliquez l'algorithme de détection d'un cycle au graphe ci-dessous (vous partirez du sommet de votre choix).\n",
    "\n",
    "![c10a_2.jpg](https://dav74.github.io/site_nsi_term/img/c10a_2.jpg)"
   ]
  },
  {
   "cell_type": "raw",
   "metadata": {
    "vscode": {
     "languageId": "raw"
    }
   },
   "source": [
    "Pile=[E]\n",
    "sommets_noir=[]"
   ]
  },
  {
   "cell_type": "raw",
   "metadata": {
    "vscode": {
     "languageId": "raw"
    }
   },
   "source": [
    "Pile=[C]\n",
    "sommets_noir=[E]"
   ]
  },
  {
   "cell_type": "raw",
   "metadata": {
    "vscode": {
     "languageId": "raw"
    }
   },
   "source": [
    "Pile=[C]\n",
    "sommets_noir=[E]"
   ]
  },
  {
   "cell_type": "raw",
   "metadata": {
    "vscode": {
     "languageId": "raw"
    }
   },
   "source": [
    "Pile=[D]\n",
    "sommets_noir=[E,C]"
   ]
  },
  {
   "cell_type": "raw",
   "metadata": {
    "vscode": {
     "languageId": "raw"
    }
   },
   "source": [
    "Pile=[]\n",
    "sommets_noir=[E,C,D]"
   ]
  },
  {
   "cell_type": "raw",
   "metadata": {
    "vscode": {
     "languageId": "raw"
    }
   },
   "source": [
    "VARIABLE\n",
    "s : noeud (noeud quelconque)\n",
    "G : un graphe\n",
    "u : noeud\n",
    "v : noeud\n",
    "p : pile (vide au départ)\n",
    "//On part du principe que pour tout sommet u du graphe G, u.couleur = blanc à l'origine\n",
    "DEBUT\n",
    "CYCLE():\n",
    "    empiler(s,p)\n",
    "    tant que p n'est pas vide :\n",
    "        u ← depiler(p)\n",
    "        pour chaque sommet v adjacent au sommet u :\n",
    "            si v.couleur n'est pas noir :\n",
    "                empiler(v,p)\n",
    "            fin si\n",
    "        fin pour\n",
    "        si u est noir :\n",
    "            renvoie Vrai\n",
    "        sinon :\n",
    "            u.couleur ← noir\n",
    "        fin si\n",
    "    fin tant que\n",
    "    renvoie Faux\n",
    "FIN"
   ]
  },
  {
   "cell_type": "markdown",
   "metadata": {},
   "source": [
    "### activité 10.4\n",
    "\n",
    "Appliquez l'algorithme de détection d'un cycle au graphe ci-dessous (vous partirez du sommet de votre choix).\n",
    "\n",
    "![c10a_3.jpg](https://dav74.github.io/site_nsi_term/img/c10a_3.jpg)\n"
   ]
  },
  {
   "cell_type": "raw",
   "metadata": {
    "vscode": {
     "languageId": "raw"
    }
   },
   "source": [
    "Pile=[E]\n",
    "sommets_noir=[]"
   ]
  },
  {
   "cell_type": "raw",
   "metadata": {
    "vscode": {
     "languageId": "raw"
    }
   },
   "source": [
    "Pile=[C]\n",
    "sommets_noir=[E]"
   ]
  },
  {
   "cell_type": "raw",
   "metadata": {
    "vscode": {
     "languageId": "raw"
    }
   },
   "source": [
    "Pile=[A,D]\n",
    "sommets_noir=[E,C]"
   ]
  },
  {
   "cell_type": "raw",
   "metadata": {
    "vscode": {
     "languageId": "raw"
    }
   },
   "source": [
    "Pile=[A,F]\n",
    "sommets_noir=[E,C,D]"
   ]
  },
  {
   "cell_type": "raw",
   "metadata": {
    "vscode": {
     "languageId": "raw"
    }
   },
   "source": [
    "Pile=[A,B]\n",
    "sommets_noir=[E,C,D,F]"
   ]
  },
  {
   "cell_type": "raw",
   "metadata": {
    "vscode": {
     "languageId": "raw"
    }
   },
   "source": [
    "Pile=[A]\n",
    "sommets_noir=[E,C,D,F,B]"
   ]
  },
  {
   "cell_type": "raw",
   "metadata": {
    "vscode": {
     "languageId": "raw"
    }
   },
   "source": [
    "Pile=[]\n",
    "sommets_noir=[E,C,D,F,B,A]"
   ]
  },
  {
   "cell_type": "markdown",
   "metadata": {},
   "source": [
    "### activité 10.5\n",
    "Appliquez l'algorithme permettant de trouver une chaine entre un noeud de départ (start) et un noeud d'arrivée (end) au graphe ci-dessous (vous choisirez les noeuds de départ et d'arrivée de votre choix).\n",
    "\n",
    "![c10a_1.jpg](https://dav74.github.io/site_nsi_term/img/c10a_1.jpg)"
   ]
  },
  {
   "cell_type": "raw",
   "metadata": {
    "vscode": {
     "languageId": "raw"
    }
   },
   "source": [
    "start = A\n",
    "end = C\n",
    "\n",
    "nchemin= A"
   ]
  },
  {
   "cell_type": "raw",
   "metadata": {
    "vscode": {
     "languageId": "raw"
    }
   },
   "source": [
    "nchemin= A ,B"
   ]
  },
  {
   "cell_type": "raw",
   "metadata": {
    "vscode": {
     "languageId": "raw"
    }
   },
   "source": [
    "nchemin= A,B,C"
   ]
  },
  {
   "cell_type": "raw",
   "metadata": {
    "vscode": {
     "languageId": "raw"
    }
   },
   "source": [
    "VARIABLE\n",
    "G : un graphe\n",
    "start : noeud (noeud de départ)\n",
    "end : noeud (noeud d'arrivé)\n",
    "u : noeud\n",
    "chaine : ensemble de noeuds (initialement vide)\n",
    "\n",
    "DEBUT\n",
    "TROUVE-CHAINE(G, start, end, chaine):\n",
    "    chaine = chaine ⋃ start //le symbol ⋃ signifie union, il permet d'ajouter le noeud start à l'ensemble chaine\n",
    "    si start est identique à end :\n",
    "        renvoie chaine\n",
    "    fin si\n",
    "    pour chaque sommet u adjacent au sommet start :\n",
    "        si u n'appartient pas à chaine :\n",
    "            nchemin = TROUVE-CHAINE(G, u, end, chaine)\n",
    "            si nchemin non vide :\n",
    "                renvoie nchemin\n",
    "            fin si\n",
    "        fin si\n",
    "    fin pour\n",
    "    renvoie NIL\n",
    "FIN"
   ]
  },
  {
   "cell_type": "markdown",
   "metadata": {},
   "source": []
  }
 ],
 "metadata": {
  "kernelspec": {
   "display_name": "Python 3",
   "language": "python",
   "name": "python3"
  },
  "language_info": {
   "codemirror_mode": {
    "name": "ipython",
    "version": 3
   },
   "file_extension": ".py",
   "mimetype": "text/x-python",
   "name": "python",
   "nbconvert_exporter": "python",
   "pygments_lexer": "ipython3",
   "version": "3.12.1"
  }
 },
 "nbformat": 4,
 "nbformat_minor": 2
}
