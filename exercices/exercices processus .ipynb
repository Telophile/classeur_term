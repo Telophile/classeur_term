{
 "cells": [
  {
   "cell_type": "markdown",
   "metadata": {},
   "source": [
    "# 1/"
   ]
  },
  {
   "cell_type": "markdown",
   "metadata": {},
   "source": [
    "|numero peripherique |    adresse  |     operation   | Réponse de l'ordonnanceur|\n",
    "|--------------------|-------------|-----------------|--------------------------|\n",
    "|0|10|ecriture|ok\n",
    "|1|11|lecture|ok\n",
    "|2|10|lecture|att\n",
    "|3|10|ecriture|att\n",
    "|0|12|lecture|ok\n",
    "|1|10|lecture|att\n",
    "|2|10|lecture|att\n",
    "|3|10|ecriture|att"
   ]
  },
  {
   "cell_type": "markdown",
   "metadata": {},
   "source": [
    "# 2 /\n",
    "\n",
    "le peripherique 1 va lire l adresse 10 et etant donne qu elle a ete ecrite au peripherique 0 le peripherique 1 renvoie donc att"
   ]
  },
  {
   "cell_type": "markdown",
   "metadata": {},
   "source": [
    "# 3/\n",
    "\n",
    "a\n",
    "\n",
    "Tour 1 : peripherique 0 peut ecrire et le peripherique 1 ne peut pas lire\n",
    "\n",
    "Tour 2 : peripherique 1 peut lire et le peripherique 0 ne peut pas ecrire\n",
    "\n",
    "Tour 3 : peripherique 0 peut ecrire et le peripherique 1 ne peut pas lire\n",
    "\n",
    "Tour 4 : peripherique 0 peut ecrire et le peripherique 1 ne peut pas lire\n",
    "\n",
    "b\n",
    "\n",
    "la portion des valeurs ecrites  par le périphérique 0 qui sont \n",
    "effectivement lues par le périphérique 1 sont de 1/4 soit 25%\n"
   ]
  },
  {
   "cell_type": "markdown",
   "metadata": {},
   "source": [
    "# 4 /\n",
    "\n",
    "|tour|numero peripherique |    adresse  |     operation   | Réponse de l'ordonnanceur|ATT_L|ATT_E\n",
    "|-|--------------------|-------------|-----------------|--------------------------|-------|------|\n",
    "|1|0|10|ecriture|ok|vide|vide\n",
    "|1|1|10|lecture|att|(1,10)|vide\n",
    "|1|2|11|ecriture|ok|(1,10)|vide\n",
    "|1|3|11|lecture|att|(1,10),(3,11)|vide\n",
    "|2|1|10|lecture|ok|(3,11)|vide\n",
    "|2|3|11|lecture|att|(3,11)|vide\n",
    "|2|0|10|ecriture|ok|(3,11)|vide\n",
    "|2|2|12|ecriture|ok|(3,11)|vide\n",
    "|3|0|10|ecriture|ok|vide|vide\n",
    "|3|1|10|lecture|att|(1,10)|vide\n",
    "|3|2|11|ecriture|ok|(1,10)|vide\n",
    "|3|3|12|lecture|ok|(1,10)|vide\n"
   ]
  },
  {
   "cell_type": "markdown",
   "metadata": {},
   "source": [
    "# 5/\n",
    "\n",
    "a\n",
    "\n",
    "```\n",
    "e1--[non]-\n",
    "         |et--s\n",
    "e0-------\n",
    "```\n",
    "b\n",
    "```\n",
    "e1-------\n",
    "         |et--s\n",
    "e0-[non]--\n",
    "```\n",
    "c\n",
    "```\n",
    "e1-[non]-\n",
    "         |et--s\n",
    "e0-[non]-\n",
    "```"
   ]
  },
  {
   "cell_type": "markdown",
   "metadata": {},
   "source": []
  }
 ],
 "metadata": {
  "language_info": {
   "name": "python"
  }
 },
 "nbformat": 4,
 "nbformat_minor": 2
}
