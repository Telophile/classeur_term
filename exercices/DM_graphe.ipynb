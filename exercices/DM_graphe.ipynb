{
 "cells": [
  {
   "cell_type": "markdown",
   "metadata": {},
   "source": [
    "# Exercice 1"
   ]
  },
  {
   "cell_type": "markdown",
   "metadata": {},
   "source": [
    "1"
   ]
  },
  {
   "cell_type": "code",
   "execution_count": 1,
   "metadata": {},
   "outputs": [],
   "source": [
    "G1 = {\n",
    "    'A': {'B': 4, 'E': 4},\n",
    "    'B': {'A': 4, 'F': 7, 'G': 5},\n",
    "    'C': {'E': 8, 'D': 4},\n",
    "    'D': {'C': 4, 'E': 6, 'F': 8},\n",
    "    'E': {'A': 4, 'C': 8, 'D': 6},\n",
    "    'F': {'B': 7, 'D': 8, 'G': 3},\n",
    "    'G': {'B': 5, 'F': 3}\n",
    "}"
   ]
  },
  {
   "cell_type": "markdown",
   "metadata": {},
   "source": [
    "2\n",
    "\n",
    "A → E → D : 4 + 6 = 10 km"
   ]
  },
  {
   "cell_type": "markdown",
   "metadata": {},
   "source": [
    "3\n",
    "\n",
    "   A  B  C  D  E  F  G\n",
    "\n",
    "A [0, 4, 0, 0, 4, 0, 0]\n",
    "\n",
    "B [4, 0, 0, 0, 0, 7, 5]\n",
    "\n",
    "C [0, 0, 0, 4, 8, 0, 0]\n",
    "\n",
    "D [0, 0, 4, 0, 6, 8, 0]\n",
    "\n",
    "E [4, 0, 8, 6, 0, 0, 0]\n",
    "\n",
    "F [0, 7, 0, 8, 0, 0, 3]\n",
    "\n",
    "G [0, 5, 0, 0, 0, 3, 0]"
   ]
  },
  {
   "cell_type": "markdown",
   "metadata": {},
   "source": [
    "4"
   ]
  },
  {
   "cell_type": "code",
   "execution_count": 4,
   "metadata": {},
   "outputs": [],
   "source": [
    "G2 = {\n",
    "    'A': ['B', 'C', 'H'],\n",
    "    'B': ['A', 'I'],\n",
    "    'C': ['A', 'E'],\n",
    "    'D': ['E', 'F'],\n",
    "    'E': ['C', 'D', 'G'],\n",
    "    'F': ['D', 'G', 'I'],\n",
    "    'G': ['E', 'F', 'H'],\n",
    "    'H': ['A', 'G', 'I'],\n",
    "    'I': ['B', 'F', 'H']\n",
    "}"
   ]
  },
  {
   "cell_type": "markdown",
   "metadata": {},
   "source": [
    "5\n"
   ]
  },
  {
   "cell_type": "code",
   "execution_count": 5,
   "metadata": {},
   "outputs": [
    {
     "data": {
      "text/plain": [
       "['A', 'B', 'C', 'H', 'I', 'E', 'G', 'F', 'D']"
      ]
     },
     "execution_count": 5,
     "metadata": {},
     "output_type": "execute_result"
    }
   ],
   "source": [
    "def parcours(graph, debut):\n",
    "    visite = [debut]\n",
    "    suivant = [debut]\n",
    "    while suivant:\n",
    "        actuel = suivant.pop(0)\n",
    "        for voisin in sorted(graph[actuel]):\n",
    "            if voisin not in visite:\n",
    "                visite.append(voisin)\n",
    "                suivant.append(voisin)\n",
    "    return visite\n",
    "\n",
    "parcours(G2, 'A')  # → ['A', 'B', 'C', 'H', 'I', 'E', 'G', 'F', 'D']"
   ]
  },
  {
   "cell_type": "markdown",
   "metadata": {},
   "source": [
    "6\n",
    "\n",
    "La fonction cherche_itineraires est récursive car elle s'appelle elle-même dans sa définition, elle posssede aussi un cas trivial pour qu elle puisse avoir une fin"
   ]
  },
  {
   "cell_type": "markdown",
   "metadata": {},
   "source": [
    "7\n",
    "\n",
    "Cette fonction a pour rôle de trouver tous les chemins possibles entre deux nœuds dans un graphe et elle stocke les chemins dans la variable globale tab_itineraires"
   ]
  },
  {
   "cell_type": "markdown",
   "metadata": {},
   "source": [
    "8"
   ]
  },
  {
   "cell_type": "code",
   "execution_count": null,
   "metadata": {},
   "outputs": [],
   "source": [
    "def itineraires_court(G, dep, arr):\n",
    "    global tab_itineraires\n",
    "    tab_itineraires = []  # Réinitialisation pour éviter les problèmes\n",
    "    cherche_itineraires(G, dep, arr)\n",
    "    tab_court = []\n",
    "    mini = float('inf')\n",
    "    for v in tab_itineraires:\n",
    "        if len(v) <= mini:\n",
    "            mini = len(v)\n",
    "    for v in tab_itineraires:\n",
    "        if len(v) == mini:\n",
    "            tab_court.append(v)\n",
    "    return tab_court"
   ]
  },
  {
   "cell_type": "markdown",
   "metadata": {},
   "source": [
    "9\n",
    "\n",
    "Le problème est que tab_itineraires n'est pas réinitialisée entre deux appels à itineraires_court du coup lors du deuxième appel, la fonction utilise les chemins trouvés lors du premier appel, ce qui donne des résultats incoherent"
   ]
  },
  {
   "cell_type": "markdown",
   "metadata": {},
   "source": [
    "10 \n",
    "\n",
    "il y a plusieurs interet comme la possibilité d'interroger facilement les données avec SQL ou encore s assurer de l intégrité des données c est aussi beaucoup plus pratique pour la gestion de grandes quantités de données"
   ]
  },
  {
   "cell_type": "markdown",
   "metadata": {},
   "source": [
    "11 \n",
    "\n",
    "ville(\n",
    "    id INT PRIMARY KEY,\n",
    "    nom VARCHAR(100),\n",
    "    num_dep INT,\n",
    "    nombre_hab INT,\n",
    "    superficie FLOAT\n",
    ")"
   ]
  },
  {
   "cell_type": "markdown",
   "metadata": {},
   "source": [
    "12\n",
    "\n",
    "id_ville est une clé étrangère qui fait référence à l'id de la table ville. Elle permet d'établir une relation entre les 2 tables et empecher les incoherences"
   ]
  },
  {
   "cell_type": "markdown",
   "metadata": {},
   "source": [
    "13\n",
    "\n",
    "Chamonix"
   ]
  },
  {
   "cell_type": "markdown",
   "metadata": {},
   "source": [
    "14\n",
    "\n",
    "SELECT nom\n",
    "\n",
    "FROM sport\n",
    "\n",
    "WHERE type = 'piscine';"
   ]
  },
  {
   "cell_type": "markdown",
   "metadata": {},
   "source": [
    "15\n",
    "\n",
    "UPDATE sport\n",
    "\n",
    "SET note = 7\n",
    "\n",
    "WHERE nom = 'Ballons perdus' AND type = 'terrain multisport';"
   ]
  },
  {
   "cell_type": "markdown",
   "metadata": {},
   "source": [
    "16\n",
    "\n",
    "INSERT INTO ville (id, nom, num_dep, nombre_hab, superficie)VALUES (8, 'Toulouse', 31, 471941, 118);"
   ]
  },
  {
   "cell_type": "markdown",
   "metadata": {},
   "source": [
    "17\n",
    "\n",
    "SELECT s.nom\n",
    "\n",
    "FROM sport s\n",
    "\n",
    "JOIN ville v ON s.id_ville = v.id\n",
    "\n",
    "WHERE s.type = 'mur d'escalade' AND v.nom = 'Annecy'"
   ]
  },
  {
   "cell_type": "markdown",
   "metadata": {},
   "source": []
  }
 ],
 "metadata": {
  "kernelspec": {
   "display_name": "Python 3",
   "language": "python",
   "name": "python3"
  },
  "language_info": {
   "codemirror_mode": {
    "name": "ipython",
    "version": 3
   },
   "file_extension": ".py",
   "mimetype": "text/x-python",
   "name": "python",
   "nbconvert_exporter": "python",
   "pygments_lexer": "ipython3",
   "version": "3.12.1"
  }
 },
 "nbformat": 4,
 "nbformat_minor": 2
}
