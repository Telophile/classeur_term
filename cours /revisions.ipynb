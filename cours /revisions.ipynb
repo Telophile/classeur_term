{
 "cells": [
  {
   "cell_type": "code",
   "execution_count": 1,
   "metadata": {},
   "outputs": [
    {
     "ename": "NameError",
     "evalue": "name 'Personnage' is not defined",
     "output_type": "error",
     "traceback": [
      "\u001b[0;31m---------------------------------------------------------------------------\u001b[0m",
      "\u001b[0;31mNameError\u001b[0m                                 Traceback (most recent call last)",
      "Cell \u001b[0;32mIn[1], line 1\u001b[0m\n\u001b[0;32m----> 1\u001b[0m guy \u001b[38;5;241m=\u001b[39m \u001b[43mPersonnage\u001b[49m(\u001b[38;5;124m\"\u001b[39m\u001b[38;5;124mGuybrush\u001b[39m\u001b[38;5;124m\"\u001b[39m,\u001b[38;5;241m100\u001b[39m)\n\u001b[1;32m      2\u001b[0m helaine \u001b[38;5;241m=\u001b[39m Personnage(\u001b[38;5;124m\"\u001b[39m\u001b[38;5;124mHelaine\u001b[39m\u001b[38;5;124m\"\u001b[39m,\u001b[38;5;241m200\u001b[39m)\n\u001b[1;32m      4\u001b[0m \u001b[38;5;66;03m# Tests\u001b[39;00m\n",
      "\u001b[0;31mNameError\u001b[0m: name 'Personnage' is not defined"
     ]
    }
   ],
   "source": [
    "guy = Personnage(\"Guybrush\",100)\n",
    "helaine = Personnage(\"Helaine\",200)\n",
    "\n",
    "# Tests\n",
    "\n",
    "assert str(guy) == \"Guybrush (100, [])\", \"Erreur avec la méthode '__init__'\"\n",
    "assert str(helaine) == \"Helaine (200, [])\", \"Erreur avec la méthode '__init__'\""
   ]
  },
  {
   "cell_type": "code",
   "execution_count": null,
   "metadata": {},
   "outputs": [],
   "source": [
    "conversation1 = guy.parle(helaine)\n",
    "conversation2 = helaine.parle(guy)\n",
    "\n",
    "# Tests\n",
    "\n",
    "assert conversation1 == \"Guybrush et Helaine discutent\", \"Erreur avec la méthode 'parle'\"\n",
    "assert conversation2 == \"Helaine et Guybrush discutent\", \"Erreur avec la méthode 'parle'"
   ]
  },
  {
   "cell_type": "code",
   "execution_count": null,
   "metadata": {},
   "outputs": [],
   "source": [
    "gateau = Chose('gâteau')\n",
    "resultat = guy.prend(gateau)\n",
    "\n",
    "# Tests\n",
    "\n",
    "assert gateau.genre == \"gâteau\", \"Erreur avec l'attribut 'genre'\"\n",
    "assert gateau in guy.inventaire, \"Erreur avec la méthode 'prend'\"\n",
    "assert resultat == \"Guybrush prend un(e) gâteau\", \"Erreur avec la méthode 'prend'\""
   ]
  },
  {
   "cell_type": "code",
   "execution_count": null,
   "metadata": {},
   "outputs": [],
   "source": [
    "gateau = Chose('gâteau')\n",
    "resultat = guy.prend(gateau)\n",
    "\n",
    "nrj = guy.energie\n",
    "guy.mange(gateau)\n",
    "guy.energie = 199\n",
    "...\n",
    "\n",
    "# Tests\n",
    "\n",
    "assert nrj == 100, \"Erreur avec l'attribut 'nrj'\"\n",
    "assert guy.energie == 199, \"Erreur avec l'attribut 'nrj'\"\n",
    "assert gateau not in guy.inventaire, \"Erreur avec la méthode 'mange'\"\n",
    "assert resultat == \"Guybrush mange un(e) gâteau\", \"Erreur avec la méthode 'mange'\""
   ]
  },
  {
   "cell_type": "markdown",
   "metadata": {},
   "source": [
    "### chien POO"
   ]
  },
  {
   "cell_type": "code",
   "execution_count": 3,
   "metadata": {},
   "outputs": [],
   "source": [
    "class Chien:\n",
    "    def __init__(self, nom, poids):\n",
    "        self.nom = nom\n",
    "        self.poids = poids\n",
    "\n",
    "    def donne_nom(self):\n",
    "        return self.nom\n",
    "\n",
    "    def donne_poids(self):\n",
    "        return self.poids\n",
    "\n",
    "    def machouille(self, jouet):\n",
    "        resultat = \"\"\n",
    "        for i in range(len(jouet)-1):\n",
    "            resultat += jouet[i]\n",
    "        return resultat\n",
    "        \n",
    "    def aboie(self, nb_fois):\n",
    "        resultat = \"Ouaf\"*nb_fois\n",
    "        return resultat\n",
    "\n",
    "    def mange(self, ration):\n",
    "        if ration > 0 and ration<= self.poids/10 :\n",
    "            \n",
    "            self.poids = self.poids + ration\n",
    "            return True\n",
    "        else:\n",
    "            return False\n",
    "\n",
    "# Tests\n",
    "\n",
    "medor = Chien('Médor', 12.0)\n",
    "assert medor.donne_nom() == 'Médor'\n",
    "assert medor.donne_poids() == 12.0\n",
    "assert medor.machouille('bâton') == 'bâto'\n",
    "assert medor.aboie(3) == 'OuafOuafOuaf'\n",
    "assert medor.mange(2.0) is False\n",
    "assert medor.mange(1.0) is True\n",
    "assert medor.donne_poids() == 13.0\n",
    "assert medor.mange(1.3) is True\n"
   ]
  },
  {
   "cell_type": "code",
   "execution_count": null,
   "metadata": {},
   "outputs": [],
   "source": []
  }
 ],
 "metadata": {
  "kernelspec": {
   "display_name": "Python 3",
   "language": "python",
   "name": "python3"
  },
  "language_info": {
   "codemirror_mode": {
    "name": "ipython",
    "version": 3
   },
   "file_extension": ".py",
   "mimetype": "text/x-python",
   "name": "python",
   "nbconvert_exporter": "python",
   "pygments_lexer": "ipython3",
   "version": "3.12.1"
  }
 },
 "nbformat": 4,
 "nbformat_minor": 2
}
