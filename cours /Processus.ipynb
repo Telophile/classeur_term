{
 "cells": [
  {
   "cell_type": "markdown",
   "metadata": {},
   "source": [
    "# S.o.C. :\n",
    "\n",
    "<h3 class='fa fa-graduation-cap' style=\"color: MediumSeaGreen\"> A faire vous même n°1 :</h3>\n",
    "\n",
    "A partir de la lecture de la page [Composants intégrés d'un système sur puce](https://pixees.fr/informatiquelycee/n_site/nsi_term_archi_soc.html) proposée par David ROCHE :\n",
    "\n",
    "- **Donner** la signification de l'acronyme **SoC** :\n",
    "\n",
    "    \"system on a chip\"\n",
    "    \n",
    "    \n",
    "    \n",
    "- **Lister** les avantages et inconvénients d'un **SoC** :\n",
    "\n",
    "    leur taille \n",
    "    \n",
    "    les SoC sont conçus pour consommer beaucoup moins d'énergie qu'un système classique \n",
    "    \n",
    "    Cette consommation réduite permet dans la plupart des cas de s'affranchir de la présence de système de refroidissement actif comme les ventilateurs \n",
    "    \n",
    "     Un système équipé de SoC est donc silencieux\n",
    "     \n",
    "     les données circulent beaucoup plus vites, ce qui permet d'améliorer les performances\n",
    "    \n",
    "    \n",
    "- **Faire** des recherches sur le Soc BCM2711 qui équipe les Raspberry PI4, notez les principales caractéristiques de ce **SoC** :\n",
    "\n",
    "    s principales caractéristiques de ce produit sont un processeur quad-core 64 bits hautes performances, la prise en charge du double affichage avec des résolutions allant jusqu'à 4K via une paire de ports micro-HDMI, un décodage vidéo matériel jusqu'à 4Kp60, 4 Go de RAM, une connexion au réseau local sans fil double bande 2,4/5,0 GHz, fonctionnalités Bluetooth 5.0, Gigabit Ethernet, USB 3.0 et PoE (via un module complémentaire PoE HAT séparé)\n",
    "    \n",
    "        \n",
    "- **Interroger** en lignes de commande différents appareils pour connaitre les caractéristiques de leur **SoC** :\n",
    "\n",
    "    \n",
    "    \n",
    "    wmic cpu get name \n",
    "    \n",
    "    Name\n",
    "    \n",
    "    Intel(R) Core(TM) i7-4770 CPU @ 3.40GHz  \n",
    "    \n",
    "      \n",
    "           \n",
    "    ... \n",
    "\n",
    "<h3 class='fa fa-graduation-cap' style=\"color: darkorange\"> A faire vous même n°2 :</h3>\n",
    "\n",
    "Si le CPU (Central Processing Unit) d’un SoC n'a qu'un seul coeur, il ne traite qu’une instruction à la fois, certains d’entre eux sont à plusieurs coeurs ce qui permet de les faire travailler séparément et de gagner en rapidité.\n",
    "\n",
    "Deux programmes peuvent utiliser deux coeurs différents, néanmoins ils doivent se partager les différentes ressources et mémoires du processeur.\n",
    "\n",
    "La rapidité d’un processeur est principalement lié à sa fréquence, au nombre de coeurs et à la taille de sa mémoire cache.\n",
    "\n",
    "La fréquence donne le nombre d’instructions pouvant être traitées en une seconde par un coeur.             \n",
    "        \n",
    "- **Calculer** combien d’opérations peut réaliser un processeur(single-core) à 3,2 GHZ en une seconde ?\n",
    "\n",
    "  1 GHZ = 1  Milliards d operations donc 3.2 GHZ = 3 200 000 000 op/sec\n",
    "    \n",
    "\n",
    "<h3 class='fa fa-graduation-cap' style=\"color: tomato\"> A faire vous même n°3 :</h3>\n",
    "\n",
    "Voici un programme Python qui donne la température toutes les n secondes du premier coeur d’un processeur :\n",
    "\n",
    "```python\n",
    "from time import sleep\n",
    "import psutil\n",
    "n=int(input(\"période\"))\n",
    "while True:\n",
    "    tempsinfos=psutil.sensors_temperatures()\n",
    "    # print(tempsinfos)\n",
    "    t=tempsinfos[\"coretemp\"][0].current\n",
    "    print(\"température du coeur 0 :\", t)\n",
    "    sleep(n)\n",
    "    \n",
    "\n",
    "```\n",
    "La bibliothèque `psutil` donne accès à ces températures via la fonction `sensors.temperatures()` qui renvoie les données mesurées par les sondes sous forme d’un dictionnaire.\n",
    "\n",
    "La clé `\"coretemp\"` de ce dictionnaire contient les informations de températures pour le CPU sous forme d’un tableau. \n",
    "\n",
    "L’information pour chaque coeur est donnée sous la forme d’un n-uplet nommé qui contient, entre autre, un champ `current` donnant la température du coeur.\n",
    "\n",
    "- **Préciser** en quelle unité est donnée la température ?\n",
    "\n",
    "  en degres celcius\n",
    "    \n",
    "\n",
    "- **Écrire** un programme qui affiche la moyenne des températures des coeurs du CPU :"
   ]
  },
  {
   "cell_type": "code",
   "execution_count": 1,
   "metadata": {
    "slideshow": {
     "slide_type": "fragment"
    },
    "trusted": true
   },
   "outputs": [
    {
     "ename": "KeyError",
     "evalue": "'coretemp'",
     "output_type": "error",
     "traceback": [
      "\u001b[0;31m---------------------------------------------------------------------------\u001b[0m",
      "\u001b[0;31mKeyError\u001b[0m                                  Traceback (most recent call last)",
      "Cell \u001b[0;32mIn[1], line 7\u001b[0m\n\u001b[1;32m      5\u001b[0m tempsinfos\u001b[38;5;241m=\u001b[39mpsutil\u001b[38;5;241m.\u001b[39msensors_temperatures()\n\u001b[1;32m      6\u001b[0m \u001b[38;5;66;03m# print(tempsinfos)\u001b[39;00m\n\u001b[0;32m----> 7\u001b[0m t\u001b[38;5;241m=\u001b[39m\u001b[43mtempsinfos\u001b[49m\u001b[43m[\u001b[49m\u001b[38;5;124;43m\"\u001b[39;49m\u001b[38;5;124;43mcoretemp\u001b[39;49m\u001b[38;5;124;43m\"\u001b[39;49m\u001b[43m]\u001b[49m[\u001b[38;5;241m0\u001b[39m]\u001b[38;5;241m.\u001b[39mcurrent\n\u001b[1;32m      8\u001b[0m \u001b[38;5;28mprint\u001b[39m(\u001b[38;5;124m\"\u001b[39m\u001b[38;5;124mtempérature du coeur 0 :\u001b[39m\u001b[38;5;124m\"\u001b[39m, t)\n\u001b[1;32m      9\u001b[0m sleep(n)\n",
      "\u001b[0;31mKeyError\u001b[0m: 'coretemp'"
     ]
    }
   ],
   "source": [
    "from time import sleep\n",
    "import psutil\n",
    "n=int(input(\"période\"))\n",
    "while True:\n",
    "    tempsinfos=psutil.sensors_temperatures()\n",
    "    # print(tempsinfos)\n",
    "    t=tempsinfos[\"coretemp\"][0].current\n",
    "    print(\"température du coeur 0 :\", t)\n",
    "    sleep(n)\n",
    "    "
   ]
  },
  {
   "cell_type": "markdown",
   "metadata": {},
   "source": [
    "- **Expérimenter** votre programme sur différentes machines...\n",
    "\n",
    "\n",
    "<h3 class='fa fa-graduation-cap' style=\"color: MediumSeaGreen\"> A faire vous même n°4 :</h3>\n",
    "\n",
    "- **Trouver**, **installer** et **explorer** une application qui vous informe sur l’état du CPU de votre smartphone...\n",
    "\n",
    "# Processus :\n",
    "\n",
    "<h3 class='fa fa-graduation-cap' style=\"color: MediumSeaGreen\"> A faire vous même n°5 :</h3>\n",
    "\n",
    "- **Regarder** la vidéo [Le système d'exploitation en trois idées clé](https://youtu.be/SpCP2oaCx8A)"
   ]
  },
  {
   "cell_type": "code",
   "execution_count": 1,
   "metadata": {
    "trusted": false
   },
   "outputs": [
    {
     "data": {
      "text/html": [
       "<center>\n",
       "    <iframe width=\"560\" height=\"315\" src=\"https://www.youtube-nocookie.com/embed/SpCP2oaCx8A\" frameborder=\"0\" allow=\"accelerometer; autoplay; clipboard-write; encrypted-media; gyroscope; picture-in-picture\" allowfullscreen></iframe>\n",
       "</center>"
      ],
      "text/plain": [
       "<IPython.display.HTML object at 0x12447a8>"
      ]
     },
     "execution_count": 1,
     "metadata": {},
     "output_type": "execute_result"
    }
   ],
   "source": [
    "from IPython.display import HTML\n",
    "HTML(\"\"\"<center>\n",
    "    <iframe width=\"560\" height=\"315\" src=\"https://www.youtube-nocookie.com/embed/SpCP2oaCx8A\" frameborder=\"0\" allow=\"accelerometer; autoplay; clipboard-write; encrypted-media; gyroscope; picture-in-picture\" allowfullscreen></iframe>\n",
    "</center>\"\"\")"
   ]
  },
  {
   "cell_type": "markdown",
   "metadata": {},
   "source": [
    "<h3 class='fa fa-graduation-cap' style=\"color: MediumSeaGreen\"> A faire vous même n°6 :</h3>\n",
    "\n",
    "- **Lire** et **faire** les activités de la page [Les processus](https://pixees.fr/informatiquelycee/n_site/nsi_term_archi_proc.html) proposée par David ROCHE...\n",
    "\n",
    "\n",
    "<h3 class='fa fa-graduation-cap' style=\"color: MediumSeaGreen\"> A faire vous même n°7 :</h3>\n",
    "\n",
    "On considère 3 Processus P1, P2 et P3 et 3 ressources R1, R2 et R3 tels que:\n",
    "- P1 : demande R1, demande R2, libère R1, libère R2 ;\n",
    "- P2 : demande R2, demande R3, libère R2, libère R3 ;\n",
    "- P3 : demande R3, demande R1, libère R3, libère R1 ;\n",
    "\n",
    "Si les processus sont exécutés l’un après l’autre, d’abord P1 puis P2 et enfin P3 y-a-t-il interblocage?\n",
    "\n",
    "    ...\n",
    "    \n",
    "    ...  \n",
    "    \n",
    "\n",
    "Décrire une exécution des 3 processus qui conduit à une situation d’interblocage :\n",
    "\n",
    "    ...\n",
    "    \n",
    "    ...  \n",
    "    \n",
    "    ...  \n",
    "           \n",
    "    ... "
   ]
  },
  {
   "cell_type": "markdown",
   "metadata": {},
   "source": [
    "****\n",
    "## Références aux programmes :\n",
    "\n",
    "### Architectures matérielles et systèmes d’exploitation\n",
    "\n",
    "| Contenus | Capacités attendues | Commentaires |\n",
    "| ------ | ------ | ------ |\n",
    "|Composants intégrés d’un système sur puce.|Identifier les principaux composants sur un schéma de circuit et les avantages de leur intégration en termes de vitesse et de consommation.|Le circuit d’un téléphone peut être pris comme un exemple : microprocesseurs, mémoires locales, interfaces radio et filaires, gestion d’énergie, contrôleurs vidéo, accélérateur graphique, réseaux sur puce, etc.|\n",
    "|Gestion des processus et des ressources par un système d’exploitation.|Décrire la création d’un processus, l’ordonnancement de plusieurs processus par le système.<br/>Mettre en évidence le risque de l’interblocage (*deadlock*).|À l’aide d’outils standard, il s’agit d’observer les processus actifs ou en attente sur une machine.<br/>Une présentation débranchée de l’interblocage peut être proposée.|\n",
    "\n",
    "****"
   ]
  },
  {
   "cell_type": "markdown",
   "metadata": {},
   "source": [
    "<a rel=\"license\" href=\"http://creativecommons.org/licenses/by-sa/4.0/\"><img alt=\"Licence Creative Commons\" style=\"border-width:0\" src=\"https://i.creativecommons.org/l/by-sa/4.0/88x31.png\" /></a><br />Ce document, basé sur les travaux de David ROCHE et de Stephan VAN ZUIJLEN, est mis à disposition selon les termes de la <a rel=\"license\" href=\"http://creativecommons.org/licenses/by-sa/4.0/\">Licence Creative Commons Attribution -  Partage dans les Mêmes Conditions 4.0 International</a>.\n",
    "\n",
    "Pour toute question, suggestion ou commentaire : <a href=\"mailto:eric.madec@ecmorlaix.fr\">eric.madec@ecmorlaix.fr</a>"
   ]
  },
  {
   "cell_type": "code",
   "execution_count": null,
   "metadata": {
    "trusted": false
   },
   "outputs": [],
   "source": []
  }
 ],
 "metadata": {
  "kernelspec": {
   "display_name": "Python 3",
   "language": "python",
   "name": "python3"
  },
  "language_info": {
   "codemirror_mode": {
    "name": "ipython",
    "version": 3
   },
   "file_extension": ".py",
   "mimetype": "text/x-python",
   "name": "python",
   "nbconvert_exporter": "python",
   "pygments_lexer": "ipython3",
   "version": "3.12.1"
  },
  "toc": {
   "base_numbering": 1,
   "nav_menu": {},
   "number_sections": true,
   "sideBar": true,
   "skip_h1_title": false,
   "title_cell": "Table of Contents",
   "title_sidebar": "Contents",
   "toc_cell": false,
   "toc_position": {},
   "toc_section_display": true,
   "toc_window_display": false
  },
  "varInspector": {
   "cols": {
    "lenName": 16,
    "lenType": 16,
    "lenVar": 40
   },
   "kernels_config": {
    "python": {
     "delete_cmd_postfix": "",
     "delete_cmd_prefix": "del ",
     "library": "var_list.py",
     "varRefreshCmd": "print(var_dic_list())"
    },
    "r": {
     "delete_cmd_postfix": ") ",
     "delete_cmd_prefix": "rm(",
     "library": "var_list.r",
     "varRefreshCmd": "cat(var_dic_list()) "
    }
   },
   "types_to_exclude": [
    "module",
    "function",
    "builtin_function_or_method",
    "instance",
    "_Feature"
   ],
   "window_display": false
  },
  "vscode": {
   "interpreter": {
    "hash": "c813da0d88532624e95401f841607d640ef6d724b81c00ab0d0885f617a921c3"
   }
  }
 },
 "nbformat": 4,
 "nbformat_minor": 2
}
